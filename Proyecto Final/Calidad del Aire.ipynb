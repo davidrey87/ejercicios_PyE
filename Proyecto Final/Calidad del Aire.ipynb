{
 "cells": [
  {
   "cell_type": "code",
   "execution_count": 20,
   "metadata": {},
   "outputs": [],
   "source": [
    "import pandas as pd\n",
    "import numpy as np\n",
    "import matplotlib.pyplot as plt\n",
    "from sklearn import preprocessing\n",
    "from sklearn.decomposition import PCA"
   ]
  },
  {
   "cell_type": "code",
   "execution_count": null,
   "metadata": {},
   "outputs": [],
   "source": [
    "st = pd.read_csv(\"calidad_del_aire_cyl_1997_2013.csv\", delimiter=\";\", index_col = \"DIA\", parse_dates = True)\n",
    "st.head()"
   ]
  },
  {
   "cell_type": "code",
   "execution_count": null,
   "metadata": {},
   "outputs": [],
   "source": [
    "#Obtenemos la lista de gases\n",
    "st = st.sort_values(by='DIA')\n",
    "gas_headers = list(st)\n",
    "gas_headers.remove(\"PROVINCIA\")\n",
    "gas_headers.remove(\"ESTACIÓN\")\n",
    "#gas_headers.remove(\"DIA\")\n",
    "gas_headers"
   ]
  },
  {
   "cell_type": "code",
   "execution_count": null,
   "metadata": {},
   "outputs": [],
   "source": [
    "#Aplicamos un describe a cada gas para ver nulos o informacion no numerica\n",
    "for i in gas_headers:\n",
    "    gas = pd.Categorical(st[i])\n",
    "    print(gas.describe())"
   ]
  },
  {
   "cell_type": "code",
   "execution_count": null,
   "metadata": {},
   "outputs": [],
   "source": [
    "#Preparamos los gases para ver su comportamiento a lo largo de tiempo, se puede observar que \n",
    "#estos gases tienen un comportamiento no estacional y han descendido a lo largo de tiempo\n",
    "for i in gas_headers:\n",
    "    st[i] = st[i].replace(\"No cumple el anexo IV de la Decisión del Consejo 97/101/CE\",0)\n",
    "    st[i] = st[i].fillna(0)\n",
    "    st[i] = st[i].astype(float)\n",
    "\n",
    "st.plot(figsize=(20,10), linewidth=5, fontsize=20)"
   ]
  },
  {
   "cell_type": "code",
   "execution_count": null,
   "metadata": {},
   "outputs": [],
   "source": [
    "for i in gas_headers:\n",
    "    gas = pd.Categorical(st[i])\n",
    "    print(gas.describe())"
   ]
  },
  {
   "cell_type": "code",
   "execution_count": null,
   "metadata": {},
   "outputs": [],
   "source": [
    "#Aplicamos un smooth a los datos por año\n",
    "tsd = st.groupby(pd.Grouper(freq='M')).agg('mean')"
   ]
  },
  {
   "cell_type": "code",
   "execution_count": null,
   "metadata": {},
   "outputs": [],
   "source": [
    "tsd.plot()"
   ]
  },
  {
   "cell_type": "code",
   "execution_count": null,
   "metadata": {},
   "outputs": [],
   "source": [
    "#Usaremos ARIMA porque el valor esta mas cercano al 0 y confirmar la correlacion\n",
    "import statsmodels.api as sm\n",
    "from statsmodels.tsa.arima_model import ARIMA\n",
    "sm.stats.durbin_watson(tsd)"
   ]
  },
  {
   "cell_type": "code",
   "execution_count": null,
   "metadata": {},
   "outputs": [],
   "source": [
    "#Obtenemos las provincias y estaciones para plotear cada estacion, existen estaciones con el nombre incorrecto, asi que primero corregimos\n",
    "zonas = pd.Categorical(st['PROVINCIA']+';'+st['ESTACIÓN'])\n",
    "zonas_unicos = zonas.categories.unique()\n",
    "print(zonas_unicos)"
   ]
  },
  {
   "cell_type": "code",
   "execution_count": null,
   "metadata": {},
   "outputs": [],
   "source": [
    "st['ESTACIÓN'] = st['ESTACIÓN'].replace('Burgos1','Burgos 1')\n",
    "st['ESTACIÓN'] = st['ESTACIÓN'].replace('Burgos4','Burgos 4')\n",
    "st['ESTACIÓN'] = st['ESTACIÓN'].replace('Burgos5','Burgos 5')\n",
    "\n",
    "st['ESTACIÓN'] = st['ESTACIÓN'].replace('Miranda de Ebro1','Miranda de Ebro 1')\n",
    "st['ESTACIÓN'] = st['ESTACIÓN'].replace('Miranda de Ebro2','Miranda de Ebro 2')\n",
    "\n",
    "st['ESTACIÓN'] = st['ESTACIÓN'].replace('Le�n1','Le�n 1')\n",
    "st['ESTACIÓN'] = st['ESTACIÓN'].replace('Leon3','Le�n 3')\n",
    "st['ESTACIÓN'] = st['ESTACIÓN'].replace('Leon 4','Le�n 4')\n",
    "\n",
    "st['ESTACIÓN'] = st['ESTACIÓN'].replace('Ponferrada4','Ponferrada 4')\n",
    "\n",
    "st['ESTACIÓN'] = st['ESTACIÓN'].replace('Salamanca4','Salamanca 4')\n",
    "st['ESTACIÓN'] = st['ESTACIÓN'].replace('Salamanca5','Salamanca 5')\n",
    "st['ESTACIÓN'] = st['ESTACIÓN'].replace('Salamanca6','Salamanca 6')"
   ]
  },
  {
   "cell_type": "code",
   "execution_count": null,
   "metadata": {},
   "outputs": [],
   "source": [
    "#Obtenemos las provincias y estaciones\n",
    "zonas = pd.Categorical(st['PROVINCIA']+';'+st['ESTACIÓN'])\n",
    "zonas_unicos = zonas.categories.unique()\n",
    "print(zonas_unicos)"
   ]
  },
  {
   "cell_type": "code",
   "execution_count": null,
   "metadata": {},
   "outputs": [],
   "source": [
    "#Para usar todos los gases, contabilizamos y sumamos en una columna total\n",
    "st['TOTAL'] = st.sum(axis=1)"
   ]
  },
  {
   "cell_type": "code",
   "execution_count": null,
   "metadata": {},
   "outputs": [],
   "source": [
    "st"
   ]
  },
  {
   "cell_type": "code",
   "execution_count": null,
   "metadata": {},
   "outputs": [],
   "source": [
    "tsdT = st[\"TOTAL\"].groupby(pd.Grouper(freq='M')).agg('mean')"
   ]
  },
  {
   "cell_type": "code",
   "execution_count": null,
   "metadata": {},
   "outputs": [],
   "source": [
    "#Podemos ver que la serie de tiempo con el nuevo valor de total permanece constante\n",
    "tsdT.plot()"
   ]
  },
  {
   "cell_type": "code",
   "execution_count": null,
   "metadata": {},
   "outputs": [],
   "source": [
    "#Usaremos ARIMA porque el valor esta mas cercano al 0 y confirmar la correlacion\n",
    "sm.stats.durbin_watson(tsdT)"
   ]
  },
  {
   "cell_type": "code",
   "execution_count": null,
   "metadata": {
    "scrolled": false
   },
   "outputs": [],
   "source": [
    "for i in zonas_unicos:\n",
    "    x = i.split(';')\n",
    "    print(x[0])\n",
    "    dtt = st[(st['PROVINCIA'] == x[0]) & (st['ESTACIÓN'] == x[1])]\n",
    "    tsdTP = dtt['TOTAL'].groupby(pd.Grouper(freq='3M')).agg('mean')\n",
    "    tsdTP.interpolate(method='linear', inplace=True)\n",
    "    model = ARIMA(tsdTP , order=(1,0,0))\n",
    "    model_fit = model.fit()\n",
    "    pred = model_fit.predict(start=tsdTP.shape[0]-3, end=tsdTP.shape[0]+2)\n",
    "    plt.plot(tsdTP)\n",
    "    plt.plot(pred)\n",
    "    print(plt.show())"
   ]
  },
  {
   "cell_type": "code",
   "execution_count": null,
   "metadata": {},
   "outputs": [],
   "source": []
  }
 ],
 "metadata": {
  "kernelspec": {
   "display_name": "Python 2",
   "language": "python",
   "name": "python2"
  },
  "language_info": {
   "codemirror_mode": {
    "name": "ipython",
    "version": 2
   },
   "file_extension": ".py",
   "mimetype": "text/x-python",
   "name": "python",
   "nbconvert_exporter": "python",
   "pygments_lexer": "ipython2",
   "version": "2.7.15"
  }
 },
 "nbformat": 4,
 "nbformat_minor": 2
}
